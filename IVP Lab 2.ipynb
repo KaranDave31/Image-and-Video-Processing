{
 "cells": [
  {
   "cell_type": "code",
   "execution_count": 1,
   "id": "a5cbdcaf",
   "metadata": {},
   "outputs": [],
   "source": [
    "import cv2"
   ]
  },
  {
   "cell_type": "markdown",
   "id": "39b25458",
   "metadata": {},
   "source": [
    "# GrayScale"
   ]
  },
  {
   "cell_type": "markdown",
   "id": "989df07c",
   "metadata": {},
   "source": [
    "Using CVT COLOR Function"
   ]
  },
  {
   "cell_type": "code",
   "execution_count": 6,
   "id": "efa747a6",
   "metadata": {},
   "outputs": [],
   "source": [
    "image = cv2.imread('pic.jpg')"
   ]
  },
  {
   "cell_type": "code",
   "execution_count": 7,
   "id": "19d94ebd",
   "metadata": {},
   "outputs": [],
   "source": [
    "cv2.imshow('image', image)\n",
    "cv2.waitKey(0)\n",
    "cv2.destroyAllWindows()"
   ]
  },
  {
   "cell_type": "code",
   "execution_count": 8,
   "id": "b4590330",
   "metadata": {},
   "outputs": [],
   "source": [
    "gray_image = cv2.cvtColor(image, cv2.COLOR_RGB2GRAY)"
   ]
  },
  {
   "cell_type": "code",
   "execution_count": 9,
   "id": "43212f72",
   "metadata": {},
   "outputs": [],
   "source": [
    "cv2.imshow('gray_image', gray_image)\n",
    "cv2.waitKey(0)\n",
    "cv2.destroyAllWindows()"
   ]
  },
  {
   "cell_type": "code",
   "execution_count": 18,
   "id": "0cc4bae7",
   "metadata": {},
   "outputs": [
    {
     "data": {
      "text/plain": [
       "True"
      ]
     },
     "execution_count": 18,
     "metadata": {},
     "output_type": "execute_result"
    }
   ],
   "source": [
    "cv2.imwrite('image1.jpg', gray_image)"
   ]
  },
  {
   "cell_type": "markdown",
   "id": "ce98ef61",
   "metadata": {},
   "source": [
    "Using Flag=0"
   ]
  },
  {
   "cell_type": "code",
   "execution_count": 20,
   "id": "859884db",
   "metadata": {},
   "outputs": [],
   "source": [
    "gray_image2 = cv2.imread('pic.jpg',0)"
   ]
  },
  {
   "cell_type": "code",
   "execution_count": 35,
   "id": "9bade466",
   "metadata": {},
   "outputs": [],
   "source": [
    "cv2.imshow('gray_image', gray_image2)\n",
    "cv2.waitKey(0)\n",
    "cv2.destroyAllWindows()"
   ]
  },
  {
   "cell_type": "code",
   "execution_count": 22,
   "id": "338d503c",
   "metadata": {},
   "outputs": [
    {
     "data": {
      "text/plain": [
       "True"
      ]
     },
     "execution_count": 22,
     "metadata": {},
     "output_type": "execute_result"
    }
   ],
   "source": [
    "cv2.imwrite('image2.jpg', gray_image2)"
   ]
  },
  {
   "cell_type": "markdown",
   "id": "cf8ee2ce",
   "metadata": {},
   "source": [
    "# Binary Image"
   ]
  },
  {
   "cell_type": "markdown",
   "id": "5c811691",
   "metadata": {},
   "source": [
    "Global Thresholding"
   ]
  },
  {
   "cell_type": "code",
   "execution_count": 23,
   "id": "6390a7f7",
   "metadata": {},
   "outputs": [],
   "source": [
    "ret,thresh = cv2.threshold(gray_image,70,255,0)"
   ]
  },
  {
   "cell_type": "code",
   "execution_count": 24,
   "id": "c6870c70",
   "metadata": {},
   "outputs": [],
   "source": [
    "cv2.imshow(\"Binary Image\", thresh)\n",
    "cv2.waitKey(0)\n",
    "cv2.destroyAllWindows()"
   ]
  },
  {
   "cell_type": "code",
   "execution_count": 25,
   "id": "e2de605d",
   "metadata": {},
   "outputs": [
    {
     "data": {
      "text/plain": [
       "True"
      ]
     },
     "execution_count": 25,
     "metadata": {},
     "output_type": "execute_result"
    }
   ],
   "source": [
    "cv2.imwrite('image3.jpg', thresh)"
   ]
  },
  {
   "cell_type": "markdown",
   "id": "f1dc6f27",
   "metadata": {},
   "source": [
    "Adaptive thresholding"
   ]
  },
  {
   "cell_type": "code",
   "execution_count": 26,
   "id": "85b76225",
   "metadata": {},
   "outputs": [],
   "source": [
    "binary_image2 = cv2.adaptiveThreshold(gray_image, 255, cv2.ADAPTIVE_THRESH_GAUSSIAN_C,\n",
    "                                      cv2.THRESH_BINARY, 11, 2)"
   ]
  },
  {
   "cell_type": "code",
   "execution_count": 27,
   "id": "61240cec",
   "metadata": {},
   "outputs": [],
   "source": [
    "cv2.imshow(\"Binary Image\", binary_image2)\n",
    "cv2.waitKey(0)\n",
    "cv2.destroyAllWindows()"
   ]
  },
  {
   "cell_type": "code",
   "execution_count": 29,
   "id": "2ba9b822",
   "metadata": {},
   "outputs": [
    {
     "data": {
      "text/plain": [
       "True"
      ]
     },
     "execution_count": 29,
     "metadata": {},
     "output_type": "execute_result"
    }
   ],
   "source": [
    "cv2.imwrite('image4.jpg', binary_image2)"
   ]
  },
  {
   "cell_type": "markdown",
   "id": "7217e3b5",
   "metadata": {},
   "source": [
    "# Color to Binary"
   ]
  },
  {
   "cell_type": "code",
   "execution_count": 30,
   "id": "818df55c",
   "metadata": {},
   "outputs": [],
   "source": [
    "ret, blackwhite_img = cv2.threshold(image, 127, 255, cv2.THRESH_BINARY) "
   ]
  },
  {
   "cell_type": "code",
   "execution_count": 31,
   "id": "72560c2b",
   "metadata": {},
   "outputs": [],
   "source": [
    "bw = cv2.threshold(image, 127, 255, cv2.THRESH_BINARY) "
   ]
  },
  {
   "cell_type": "code",
   "execution_count": 32,
   "id": "e42f6603",
   "metadata": {},
   "outputs": [],
   "source": [
    "cv2.imshow(\"Binary Image\", blackwhite_img)\n",
    "cv2.waitKey(0)\n",
    "cv2.destroyAllWindows()"
   ]
  },
  {
   "cell_type": "code",
   "execution_count": 33,
   "id": "9d0fbaf8",
   "metadata": {},
   "outputs": [
    {
     "data": {
      "text/plain": [
       "True"
      ]
     },
     "execution_count": 33,
     "metadata": {},
     "output_type": "execute_result"
    }
   ],
   "source": [
    "cv2.imwrite('image5.jpg', blackwhite_img)"
   ]
  },
  {
   "cell_type": "code",
   "execution_count": 45,
   "id": "fea449c1",
   "metadata": {},
   "outputs": [
    {
     "data": {
      "text/plain": [
       "True"
      ]
     },
     "execution_count": 45,
     "metadata": {},
     "output_type": "execute_result"
    }
   ],
   "source": [
    "cv2.imwrite('gray_image.png', gray_image)\n",
    "cv2.imwrite('gray_image.bmp', gray_image)\n",
    "cv2.imwrite('gray_image.png', gray_image)\n",
    "cv2.imwrite('gray_image.bmp', gray_image)\n",
    "cv2.imwrite('gray_image.png', gray_image)"
   ]
  },
  {
   "cell_type": "code",
   "execution_count": 46,
   "id": "248108ba",
   "metadata": {},
   "outputs": [
    {
     "data": {
      "text/plain": [
       "True"
      ]
     },
     "execution_count": 46,
     "metadata": {},
     "output_type": "execute_result"
    }
   ],
   "source": [
    "cv2.imwrite('gray_image2.png', gray_image2)\n",
    "cv2.imwrite('gray_image2.bmp', gray_image2)\n",
    "cv2.imwrite('gray_image2.png', gray_image2)\n",
    "cv2.imwrite('gray_image2.bmp', gray_image2)\n",
    "cv2.imwrite('gray_image2.png', gray_image2)"
   ]
  },
  {
   "cell_type": "code",
   "execution_count": 47,
   "id": "c2c7e90d",
   "metadata": {},
   "outputs": [
    {
     "data": {
      "text/plain": [
       "True"
      ]
     },
     "execution_count": 47,
     "metadata": {},
     "output_type": "execute_result"
    }
   ],
   "source": [
    "cv2.imwrite('thresh.png', thresh)\n",
    "cv2.imwrite('thresh.bmp', thresh)\n",
    "cv2.imwrite('thresh.png', thresh)\n",
    "cv2.imwrite('thresh.bmp', thresh)\n",
    "cv2.imwrite('thresh.png', thresh)"
   ]
  },
  {
   "cell_type": "code",
   "execution_count": 48,
   "id": "85134ad6",
   "metadata": {},
   "outputs": [
    {
     "data": {
      "text/plain": [
       "True"
      ]
     },
     "execution_count": 48,
     "metadata": {},
     "output_type": "execute_result"
    }
   ],
   "source": [
    "cv2.imwrite('binary_image2.png', binary_image2)\n",
    "cv2.imwrite('binary_image2.bmp', binary_image2)\n",
    "cv2.imwrite('binary_image2.png', binary_image2)\n",
    "cv2.imwrite('binary_image2.bmp', binary_image2)\n",
    "cv2.imwrite('binary_image2.png', binary_image2)"
   ]
  },
  {
   "cell_type": "code",
   "execution_count": 49,
   "id": "d643a9d6",
   "metadata": {},
   "outputs": [
    {
     "data": {
      "text/plain": [
       "True"
      ]
     },
     "execution_count": 49,
     "metadata": {},
     "output_type": "execute_result"
    }
   ],
   "source": [
    "cv2.imwrite('blackwhite_img.png', blackwhite_img)\n",
    "cv2.imwrite('blackwhite_img.bmp', blackwhite_img)\n",
    "cv2.imwrite('blackwhite_img.png', blackwhite_img)\n",
    "cv2.imwrite('blackwhite_img.bmp', blackwhite_img)\n",
    "cv2.imwrite('blackwhite_img.png', blackwhite_img)"
   ]
  },
  {
   "cell_type": "code",
   "execution_count": null,
   "id": "d600442b",
   "metadata": {},
   "outputs": [],
   "source": []
  }
 ],
 "metadata": {
  "kernelspec": {
   "display_name": "Python 3 (ipykernel)",
   "language": "python",
   "name": "python3"
  },
  "language_info": {
   "codemirror_mode": {
    "name": "ipython",
    "version": 3
   },
   "file_extension": ".py",
   "mimetype": "text/x-python",
   "name": "python",
   "nbconvert_exporter": "python",
   "pygments_lexer": "ipython3",
   "version": "3.11.5"
  }
 },
 "nbformat": 4,
 "nbformat_minor": 5
}
