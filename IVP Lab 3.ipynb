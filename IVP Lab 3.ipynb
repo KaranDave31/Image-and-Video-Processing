{
 "cells": [
  {
   "cell_type": "code",
   "execution_count": 1,
   "id": "94f054e3",
   "metadata": {},
   "outputs": [],
   "source": [
    "import cv2"
   ]
  },
  {
   "cell_type": "code",
   "execution_count": 21,
   "id": "fef0f1c5",
   "metadata": {},
   "outputs": [],
   "source": [
    "import numpy as np"
   ]
  },
  {
   "cell_type": "code",
   "execution_count": 2,
   "id": "567ce64d",
   "metadata": {},
   "outputs": [],
   "source": [
    "input = cv2.imread('pic.jpg')"
   ]
  },
  {
   "cell_type": "code",
   "execution_count": 47,
   "id": "78a01744",
   "metadata": {},
   "outputs": [],
   "source": [
    "cv2.imshow('Original', input)\n",
    "cv2.waitKey(0)\n",
    "cv2.destroyAllWindows()"
   ]
  },
  {
   "cell_type": "markdown",
   "id": "2c25f853",
   "metadata": {},
   "source": [
    "GrayScale Image"
   ]
  },
  {
   "cell_type": "code",
   "execution_count": 4,
   "id": "ec2a1437",
   "metadata": {},
   "outputs": [],
   "source": [
    "gray_image = cv2.cvtColor(input,cv2.COLOR_BGR2GRAY)"
   ]
  },
  {
   "cell_type": "markdown",
   "id": "015b0276",
   "metadata": {},
   "source": [
    "Resized Image"
   ]
  },
  {
   "cell_type": "code",
   "execution_count": 5,
   "id": "0e44e77c",
   "metadata": {},
   "outputs": [],
   "source": [
    "resized_image = cv2.resize(gray_image,(500,680))"
   ]
  },
  {
   "cell_type": "code",
   "execution_count": 6,
   "id": "b3f234fc",
   "metadata": {},
   "outputs": [],
   "source": [
    "cv2.imshow('Resized',resized_image)\n",
    "cv2.waitKey(0)\n",
    "cv2.destroyAllWindows()"
   ]
  },
  {
   "cell_type": "markdown",
   "id": "f2aa146b",
   "metadata": {},
   "source": [
    "Negation of Image"
   ]
  },
  {
   "cell_type": "code",
   "execution_count": 15,
   "id": "5f2c595c",
   "metadata": {},
   "outputs": [
    {
     "data": {
      "text/plain": [
       "255"
      ]
     },
     "execution_count": 15,
     "metadata": {},
     "output_type": "execute_result"
    }
   ],
   "source": [
    "max_gray_level = np.max(resized_image)\n",
    "max_gray_level"
   ]
  },
  {
   "cell_type": "code",
   "execution_count": 13,
   "id": "2119530e",
   "metadata": {},
   "outputs": [],
   "source": [
    "output_image = max_gray_level - resized_image"
   ]
  },
  {
   "cell_type": "code",
   "execution_count": 48,
   "id": "de6e9713",
   "metadata": {},
   "outputs": [],
   "source": [
    "cv2.imshow('Negative Image', output_image)\n",
    "cv2.waitKey(0)\n",
    "cv2.destroyAllWindows()"
   ]
  },
  {
   "cell_type": "markdown",
   "id": "680acc07",
   "metadata": {},
   "source": [
    "Thresholding of Image"
   ]
  },
  {
   "cell_type": "code",
   "execution_count": 23,
   "id": "d1a713f3",
   "metadata": {},
   "outputs": [],
   "source": [
    "t = 70"
   ]
  },
  {
   "cell_type": "code",
   "execution_count": 25,
   "id": "9ec40f4a",
   "metadata": {},
   "outputs": [],
   "source": [
    "_, threshold_image = cv2.threshold(resized_image, t, 255, cv2.THRESH_BINARY)"
   ]
  },
  {
   "cell_type": "code",
   "execution_count": 49,
   "id": "ec7dd1ab",
   "metadata": {},
   "outputs": [],
   "source": [
    "cv2.imshow('Threshold Image', threshold_image)\n",
    "cv2.waitKey(0)\n",
    "cv2.destroyAllWindows()"
   ]
  },
  {
   "cell_type": "markdown",
   "id": "f9a39c33",
   "metadata": {},
   "source": [
    "Gray Level Slicing"
   ]
  },
  {
   "cell_type": "code",
   "execution_count": 32,
   "id": "e35c52e6",
   "metadata": {},
   "outputs": [],
   "source": [
    "A = 50\n",
    "B = 100"
   ]
  },
  {
   "cell_type": "code",
   "execution_count": 30,
   "id": "52234203",
   "metadata": {},
   "outputs": [],
   "source": [
    "output_image_without_background = np.zeros_like(resized_image)\n",
    "output_image_with_background = resized_image.copy()"
   ]
  },
  {
   "cell_type": "code",
   "execution_count": 33,
   "id": "ca65c9f9",
   "metadata": {},
   "outputs": [],
   "source": [
    "output_image_without_background[(resized_image >= A) & (resized_image <= B)] = 255"
   ]
  },
  {
   "cell_type": "code",
   "execution_count": 34,
   "id": "7194140c",
   "metadata": {},
   "outputs": [],
   "source": [
    "output_image_with_background[(resized_image >= A) & (resized_image <= B)] = 255"
   ]
  },
  {
   "cell_type": "code",
   "execution_count": 50,
   "id": "2d2b988a",
   "metadata": {},
   "outputs": [],
   "source": [
    "cv2.imshow('Output Image Without Background', output_image_without_background)\n",
    "cv2.imshow('Output Image With Background', output_image_with_background)\n",
    "cv2.waitKey(0)\n",
    "cv2.destroyAllWindows()"
   ]
  },
  {
   "cell_type": "markdown",
   "id": "e3fea628",
   "metadata": {},
   "source": [
    "Log Transformation"
   ]
  },
  {
   "cell_type": "code",
   "execution_count": 53,
   "id": "4d9bfd75",
   "metadata": {},
   "outputs": [
    {
     "name": "stderr",
     "output_type": "stream",
     "text": [
      "C:\\Users\\karan\\AppData\\Local\\Temp\\ipykernel_20196\\1049028204.py:2: RuntimeWarning: divide by zero encountered in log\n",
      "  log_image = c * np.log(1 + resized_image)\n",
      "C:\\Users\\karan\\AppData\\Local\\Temp\\ipykernel_20196\\1049028204.py:3: RuntimeWarning: invalid value encountered in cast\n",
      "  cv2.imshow('Log transformation image'+ \" \" + str(c) ,log_image.astype(np.uint8))\n"
     ]
    }
   ],
   "source": [
    "for c in range(1, 11): \n",
    "    log_image = c * np.log(1 + resized_image)\n",
    "    cv2.imshow('Log transformation image'+ \" \" + str(c) ,log_image.astype(np.uint8))\n",
    "    cv2.waitKey(0)\n",
    "    cv2.destroyAllWindows()"
   ]
  },
  {
   "cell_type": "markdown",
   "id": "660fb550",
   "metadata": {},
   "source": [
    "Power Law Transformation"
   ]
  },
  {
   "cell_type": "code",
   "execution_count": 55,
   "id": "374511a0",
   "metadata": {},
   "outputs": [],
   "source": [
    "c = 5\n",
    "gamma = 0.9"
   ]
  },
  {
   "cell_type": "code",
   "execution_count": null,
   "id": "98c7b2bc",
   "metadata": {},
   "outputs": [],
   "source": [
    "gamma_image = pow(resized_image, gamma) * c\n",
    "cv2.imshow(f'Gamma image', gamma_image.astype(np.uint8))\n",
    "cv2.waitKey(0)\n",
    "cv2.destroyAllWindows()"
   ]
  },
  {
   "cell_type": "markdown",
   "id": "948aa1ca",
   "metadata": {},
   "source": [
    "Contrast Stretching"
   ]
  },
  {
   "cell_type": "code",
   "execution_count": 43,
   "id": "7d93eded",
   "metadata": {},
   "outputs": [],
   "source": [
    "r1 = 50\n",
    "r2 = 200\n",
    "s1 = 0\n",
    "s2 = 255"
   ]
  },
  {
   "cell_type": "code",
   "execution_count": 44,
   "id": "6d33be44",
   "metadata": {},
   "outputs": [],
   "source": [
    "alpha = s1 / r1\n",
    "beta = (s2 - s1) / (r2 - r1)\n",
    "gamma = (255 - s2) / (255 - r2)"
   ]
  },
  {
   "cell_type": "code",
   "execution_count": 45,
   "id": "f2f1d60a",
   "metadata": {},
   "outputs": [],
   "source": [
    "output_image = np.zeros_like(resized_image, dtype=np.float64)\n",
    "output_image[resized_image <= r1] = alpha * resized_image[resized_image <= r1]\n",
    "output_image[(resized_image > r1) & (resized_image <= r2)] = beta * (resized_image[(resized_image > r1) & (resized_image <= r2)] - r1) + s1\n",
    "output_image[resized_image > r2] = gamma * (resized_image[resized_image > r2] - r2) + s2\n",
    "output_image = np.uint8(output_image)"
   ]
  },
  {
   "cell_type": "code",
   "execution_count": 46,
   "id": "d9f5ffc9",
   "metadata": {},
   "outputs": [],
   "source": [
    "cv2.imshow('Output Image', output_image)\n",
    "cv2.waitKey(0)\n",
    "cv2.destroyAllWindows()"
   ]
  },
  {
   "cell_type": "code",
   "execution_count": null,
   "id": "d15d1d02",
   "metadata": {},
   "outputs": [],
   "source": []
  }
 ],
 "metadata": {
  "kernelspec": {
   "display_name": "Python 3 (ipykernel)",
   "language": "python",
   "name": "python3"
  },
  "language_info": {
   "codemirror_mode": {
    "name": "ipython",
    "version": 3
   },
   "file_extension": ".py",
   "mimetype": "text/x-python",
   "name": "python",
   "nbconvert_exporter": "python",
   "pygments_lexer": "ipython3",
   "version": "3.11.5"
  }
 },
 "nbformat": 4,
 "nbformat_minor": 5
}
