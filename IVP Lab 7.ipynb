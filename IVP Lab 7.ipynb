{
 "cells": [
  {
   "cell_type": "code",
   "execution_count": 1,
   "id": "5ab2d1bf",
   "metadata": {},
   "outputs": [],
   "source": [
    "import cv2\n",
    "import numpy as np"
   ]
  },
  {
   "cell_type": "code",
   "execution_count": 2,
   "id": "5c142ba8",
   "metadata": {},
   "outputs": [],
   "source": [
    "image = cv2.imread('pic.jpg')"
   ]
  },
  {
   "cell_type": "code",
   "execution_count": 3,
   "id": "6a7f2361",
   "metadata": {},
   "outputs": [],
   "source": [
    "cv2.imshow('Original', image)\n",
    "cv2.waitKey(0)\n",
    "cv2.destroyAllWindows()"
   ]
  },
  {
   "cell_type": "code",
   "execution_count": 4,
   "id": "658bf19a",
   "metadata": {},
   "outputs": [],
   "source": [
    "gray_image = cv2.cvtColor(image,cv2.COLOR_BGR2GRAY)"
   ]
  },
  {
   "cell_type": "code",
   "execution_count": 5,
   "id": "85791f99",
   "metadata": {},
   "outputs": [],
   "source": [
    "img = cv2.resize(gray_image,(500,680))"
   ]
  },
  {
   "cell_type": "code",
   "execution_count": 6,
   "id": "483eda59",
   "metadata": {},
   "outputs": [],
   "source": [
    "cv2.imshow('Resized',img)\n",
    "cv2.waitKey(0)\n",
    "cv2.destroyAllWindows()"
   ]
  },
  {
   "cell_type": "code",
   "execution_count": 7,
   "id": "1d33344a",
   "metadata": {},
   "outputs": [],
   "source": [
    "fingerprint = cv2.imread('fingerprint.jpg')"
   ]
  },
  {
   "cell_type": "code",
   "execution_count": 44,
   "id": "e4a77e28",
   "metadata": {},
   "outputs": [],
   "source": [
    "cv2.imshow('fingerprint',fingerprint)\n",
    "cv2.waitKey(0)\n",
    "cv2.destroyAllWindows()"
   ]
  },
  {
   "cell_type": "code",
   "execution_count": 45,
   "id": "26782a6b",
   "metadata": {},
   "outputs": [],
   "source": [
    "gray_fingerprint = cv2.cvtColor(fingerprint,cv2.COLOR_BGR2GRAY)"
   ]
  },
  {
   "cell_type": "code",
   "execution_count": 46,
   "id": "beb37969",
   "metadata": {},
   "outputs": [],
   "source": [
    "img_fingerprint = cv2.resize(gray_fingerprint,(500,680))"
   ]
  },
  {
   "cell_type": "code",
   "execution_count": 47,
   "id": "60edc33d",
   "metadata": {},
   "outputs": [],
   "source": [
    "cv2.imshow('Gray Fingerprint',img_fingerprint)\n",
    "cv2.waitKey(0)\n",
    "cv2.destroyAllWindows()"
   ]
  },
  {
   "cell_type": "code",
   "execution_count": null,
   "id": "84c12524",
   "metadata": {},
   "outputs": [],
   "source": []
  },
  {
   "cell_type": "code",
   "execution_count": 48,
   "id": "4133f028",
   "metadata": {},
   "outputs": [],
   "source": [
    "broken = cv2.imread('words.jpg')"
   ]
  },
  {
   "cell_type": "code",
   "execution_count": 49,
   "id": "1f98c15a",
   "metadata": {},
   "outputs": [],
   "source": [
    "cv2.imshow('broken',broken)\n",
    "cv2.waitKey(0)\n",
    "cv2.destroyAllWindows()"
   ]
  },
  {
   "cell_type": "code",
   "execution_count": 50,
   "id": "2add4dbf",
   "metadata": {},
   "outputs": [],
   "source": [
    "gray_broken = cv2.cvtColor(broken,cv2.COLOR_BGR2GRAY)"
   ]
  },
  {
   "cell_type": "code",
   "execution_count": 51,
   "id": "c81d068c",
   "metadata": {},
   "outputs": [],
   "source": [
    "img_broken = cv2.resize(gray_broken,(500,680))"
   ]
  },
  {
   "cell_type": "code",
   "execution_count": 52,
   "id": "b94bdf0b",
   "metadata": {},
   "outputs": [],
   "source": [
    "cv2.imshow('Gray broken',img_broken)\n",
    "cv2.waitKey(0)\n",
    "cv2.destroyAllWindows()"
   ]
  },
  {
   "cell_type": "code",
   "execution_count": null,
   "id": "399f4578",
   "metadata": {},
   "outputs": [],
   "source": []
  },
  {
   "cell_type": "code",
   "execution_count": 53,
   "id": "c4082408",
   "metadata": {},
   "outputs": [],
   "source": [
    "xray = cv2.imread('xray.jpg')"
   ]
  },
  {
   "cell_type": "code",
   "execution_count": 54,
   "id": "390f18dc",
   "metadata": {},
   "outputs": [],
   "source": [
    "cv2.imshow('xray',xray)\n",
    "cv2.waitKey(0)\n",
    "cv2.destroyAllWindows()"
   ]
  },
  {
   "cell_type": "code",
   "execution_count": 55,
   "id": "fc647d46",
   "metadata": {},
   "outputs": [],
   "source": [
    "gray_xray = cv2.cvtColor(xray,cv2.COLOR_BGR2GRAY)"
   ]
  },
  {
   "cell_type": "code",
   "execution_count": 56,
   "id": "5c040b7b",
   "metadata": {},
   "outputs": [],
   "source": [
    "img_xray = cv2.resize(gray_xray,(500,680))"
   ]
  },
  {
   "cell_type": "code",
   "execution_count": 57,
   "id": "5f312dad",
   "metadata": {},
   "outputs": [],
   "source": [
    "cv2.imshow('Gray xray',img_xray)\n",
    "cv2.waitKey(0)\n",
    "cv2.destroyAllWindows()"
   ]
  },
  {
   "cell_type": "code",
   "execution_count": null,
   "id": "abf710bc",
   "metadata": {},
   "outputs": [],
   "source": []
  },
  {
   "cell_type": "code",
   "execution_count": 28,
   "id": "c4eb09dc",
   "metadata": {},
   "outputs": [],
   "source": [
    "def erosion(image, struct_elem):\n",
    "    (height, width) = image.shape\n",
    "    (se_height, se_width) = struct_elem.shape\n",
    "    pad_height = se_height // 2\n",
    "    pad_width = se_width // 2\n",
    "    \n",
    "    padded_image = np.pad(image, ((pad_height, pad_height), (pad_width, pad_width)), mode='constant', constant_values=0)\n",
    "    result = np.zeros_like(image)\n",
    "    \n",
    "    for i in range(height):\n",
    "        for j in range(width):\n",
    "            region = padded_image[i:i+se_height, j:j+se_width]\n",
    "            result[i, j] = np.min(region[struct_elem == 1])\n",
    "    \n",
    "    return result"
   ]
  },
  {
   "cell_type": "code",
   "execution_count": 29,
   "id": "eee7e4b0",
   "metadata": {},
   "outputs": [],
   "source": [
    "def dilation(image, struct_elem):\n",
    "    (height, width) = image.shape\n",
    "    (se_height, se_width) = struct_elem.shape\n",
    "    pad_height = se_height // 2\n",
    "    pad_width = se_width // 2\n",
    "    \n",
    "    padded_image = np.pad(image, ((pad_height, pad_height), (pad_width, pad_width)), mode='constant', constant_values=0)\n",
    "    result = np.zeros_like(image)\n",
    "    \n",
    "    for i in range(height):\n",
    "        for j in range(width):\n",
    "            region = padded_image[i:i+se_height, j:j+se_width]\n",
    "            result[i, j] = np.max(region[struct_elem == 1])\n",
    "    \n",
    "    return result\n"
   ]
  },
  {
   "cell_type": "code",
   "execution_count": 30,
   "id": "e2f827fb",
   "metadata": {},
   "outputs": [],
   "source": [
    "def opening(image, struct_elem):\n",
    "    eroded = erosion(image, struct_elem)\n",
    "    opened = dilation(eroded, struct_elem)\n",
    "    return opened\n"
   ]
  },
  {
   "cell_type": "code",
   "execution_count": 31,
   "id": "923df312",
   "metadata": {},
   "outputs": [],
   "source": [
    "def closing(image, struct_elem):\n",
    "    dilated = dilation(image, struct_elem)\n",
    "    closed = erosion(dilated, struct_elem)\n",
    "    return closed\n"
   ]
  },
  {
   "cell_type": "code",
   "execution_count": 32,
   "id": "c59fb6af",
   "metadata": {},
   "outputs": [],
   "source": [
    "def create_square_struct_elem(size):\n",
    "    return np.ones((size, size), dtype=np.uint8)\n"
   ]
  },
  {
   "cell_type": "code",
   "execution_count": 33,
   "id": "74a125a9",
   "metadata": {},
   "outputs": [],
   "source": [
    "def create_circular_struct_elem(radius):\n",
    "    size = 2 * radius + 1\n",
    "    struct_elem = np.zeros((size, size), dtype=np.uint8)\n",
    "    center = radius\n",
    "    for i in range(size):\n",
    "        for j in range(size):\n",
    "            if (i - center)**2 + (j - center)**2 <= radius**2:\n",
    "                struct_elem[i, j] = 1\n",
    "    return struct_elem\n"
   ]
  },
  {
   "cell_type": "code",
   "execution_count": 34,
   "id": "1e97c072",
   "metadata": {},
   "outputs": [],
   "source": [
    "def create_structuring_element(size, shape):\n",
    "    if shape == 'square':\n",
    "        return create_square_struct_elem(size)\n",
    "    elif shape == 'circular':\n",
    "        return create_circular_struct_elem(size // 2)\n",
    "    else:\n",
    "        raise ValueError(\"Unknown shape. Use 'square' or 'circular'.\")\n"
   ]
  },
  {
   "cell_type": "code",
   "execution_count": 35,
   "id": "9363714c",
   "metadata": {},
   "outputs": [],
   "source": [
    "def display_erosion(img):\n",
    "    \n",
    "    kernel_sizes = [11, 15, 45]\n",
    "    kernel_shapes = ['square', 'circular']\n",
    "\n",
    "    for kernel_size in kernel_sizes:\n",
    "        for kernel_shape in kernel_shapes:\n",
    "            kernel = create_structuring_element(kernel_size, kernel_shape)\n",
    "            \n",
    "            erosion_result = erosion(img, kernel)\n",
    "            cv2.imshow(f'Erosion ({kernel_shape.capitalize()}, {kernel_size}x{kernel_size})', erosion_result)\n",
    "         \n",
    "            cv2.waitKey(0)\n",
    "            cv2.destroyAllWindows()"
   ]
  },
  {
   "cell_type": "code",
   "execution_count": 25,
   "id": "f5e934fd",
   "metadata": {},
   "outputs": [],
   "source": [
    "display_erosion(img)\n"
   ]
  },
  {
   "cell_type": "code",
   "execution_count": 36,
   "id": "8737bae6",
   "metadata": {},
   "outputs": [],
   "source": [
    "def display_dilation(img):\n",
    "    \n",
    "    kernel_sizes = [11, 15, 45]\n",
    "    kernel_shapes = ['square', 'circular']\n",
    "\n",
    "    for kernel_size in kernel_sizes:\n",
    "        for kernel_shape in kernel_shapes:\n",
    "            kernel = create_structuring_element(kernel_size, kernel_shape)\n",
    "            \n",
    "            dilation_result = dilation(img, kernel)\n",
    "            cv2.imshow(f'Dilation ({kernel_shape.capitalize()}, {kernel_size}x{kernel_size})', dilation_result)\n",
    "            \n",
    "            cv2.waitKey(0)\n",
    "            cv2.destroyAllWindows()"
   ]
  },
  {
   "cell_type": "code",
   "execution_count": 27,
   "id": "b8729a89",
   "metadata": {},
   "outputs": [],
   "source": [
    "display_dilation(img)"
   ]
  },
  {
   "cell_type": "code",
   "execution_count": 37,
   "id": "940ffe98",
   "metadata": {},
   "outputs": [],
   "source": [
    "def display_opening(img):\n",
    "    \n",
    "    kernel_sizes = [11, 15, 45]\n",
    "    kernel_shapes = ['square', 'circular']\n",
    "\n",
    "    for kernel_size in kernel_sizes:\n",
    "        for kernel_shape in kernel_shapes:\n",
    "            kernel = create_structuring_element(kernel_size, kernel_shape)\n",
    "            \n",
    "            opening_result = opening(img, kernel)\n",
    "            \n",
    "            cv2.imshow(f'Opening ({kernel_shape.capitalize()}, {kernel_size}x{kernel_size})', opening_result)\n",
    "            \n",
    "            cv2.waitKey(0)\n",
    "            cv2.destroyAllWindows()"
   ]
  },
  {
   "cell_type": "code",
   "execution_count": 22,
   "id": "7f05730d",
   "metadata": {},
   "outputs": [],
   "source": [
    "display_opening(img)"
   ]
  },
  {
   "cell_type": "code",
   "execution_count": 38,
   "id": "371162ba",
   "metadata": {},
   "outputs": [],
   "source": [
    "def display_closing(img):\n",
    "    \n",
    "    kernel_sizes = [11, 15, 45]\n",
    "    kernel_shapes = ['square', 'circular']\n",
    "\n",
    "    for kernel_size in kernel_sizes:\n",
    "        for kernel_shape in kernel_shapes:\n",
    "            kernel = create_structuring_element(kernel_size, kernel_shape)\n",
    "            \n",
    "            closing_result = closing(img, kernel)\n",
    "            cv2.imshow(f'Closing ({kernel_shape.capitalize()}, {kernel_size}x{kernel_size})', closing_result)\n",
    "            \n",
    "            cv2.waitKey(0)\n",
    "            cv2.destroyAllWindows()"
   ]
  },
  {
   "cell_type": "code",
   "execution_count": 24,
   "id": "4276efeb",
   "metadata": {},
   "outputs": [],
   "source": [
    "display_closing(img)"
   ]
  },
  {
   "cell_type": "code",
   "execution_count": 60,
   "id": "cd4d08ac",
   "metadata": {},
   "outputs": [],
   "source": [
    "display_erosion(img_fingerprint)"
   ]
  },
  {
   "cell_type": "code",
   "execution_count": 61,
   "id": "e5b8b715",
   "metadata": {},
   "outputs": [],
   "source": [
    "display_dilation(img_fingerprint)"
   ]
  },
  {
   "cell_type": "code",
   "execution_count": 62,
   "id": "e596e580",
   "metadata": {},
   "outputs": [],
   "source": [
    "display_opening(img_fingerprint)"
   ]
  },
  {
   "cell_type": "code",
   "execution_count": 64,
   "id": "e5d921fd",
   "metadata": {},
   "outputs": [],
   "source": [
    "display_closing(img_fingerprint)"
   ]
  },
  {
   "cell_type": "code",
   "execution_count": 65,
   "id": "96e02f3d",
   "metadata": {},
   "outputs": [],
   "source": [
    "display_erosion(img_xray)"
   ]
  },
  {
   "cell_type": "code",
   "execution_count": 66,
   "id": "a2f5d5e5",
   "metadata": {},
   "outputs": [],
   "source": [
    "display_dilation(img_xray)"
   ]
  },
  {
   "cell_type": "code",
   "execution_count": 67,
   "id": "e78ed502",
   "metadata": {},
   "outputs": [],
   "source": [
    "display_opening(img_xray)"
   ]
  },
  {
   "cell_type": "code",
   "execution_count": 68,
   "id": "dbf80486",
   "metadata": {},
   "outputs": [],
   "source": [
    "display_closing(img_xray)"
   ]
  },
  {
   "cell_type": "code",
   "execution_count": 69,
   "id": "bf4e2c32",
   "metadata": {},
   "outputs": [],
   "source": [
    "def dilate_image(image, kernel_size=(5, 5)):\n",
    "    \n",
    "    kernel = np.ones(kernel_size, np.uint8)\n",
    "    return cv2.dilate(image, kernel, iterations=1)"
   ]
  },
  {
   "cell_type": "code",
   "execution_count": 70,
   "id": "8641a4e3",
   "metadata": {},
   "outputs": [],
   "source": [
    "def analyze_dilation_effect(original, dilated):\n",
    "    difference = cv2.absdiff(original, dilated)\n",
    "    \n",
    "    cv2.imshow('Difference Image', difference)\n",
    "    cv2.waitKey(0)\n",
    "    cv2.destroyAllWindows()\n",
    "    \n",
    "    white_pixels_original = np.sum(original > 0)\n",
    "    white_pixels_dilated = np.sum(dilated > 0)\n",
    "    percentage_increase = (white_pixels_dilated - white_pixels_original) / white_pixels_original * 100\n",
    "    \n",
    "    print(f\"Original white pixels: {white_pixels_original}\")\n",
    "    print(f\"Dilated white pixels: {white_pixels_dilated}\")\n",
    "    print(f\"Percentage increase in white pixels: {percentage_increase:.2f}%\")\n",
    "\n"
   ]
  },
  {
   "cell_type": "code",
   "execution_count": 76,
   "id": "a4af106d",
   "metadata": {},
   "outputs": [],
   "source": [
    "dilated_image = dilate_image(img_broken)"
   ]
  },
  {
   "cell_type": "code",
   "execution_count": 77,
   "id": "3b4c04e2",
   "metadata": {},
   "outputs": [],
   "source": [
    "cv2.imshow('broken', img_broken)\n",
    "cv2.waitKey(0)\n",
    "cv2.destroyAllWindows()"
   ]
  },
  {
   "cell_type": "code",
   "execution_count": 78,
   "id": "54652f99",
   "metadata": {},
   "outputs": [
    {
     "name": "stdout",
     "output_type": "stream",
     "text": [
      "Original white pixels: 323687\n",
      "Dilated white pixels: 337486\n",
      "Percentage increase in white pixels: 4.26%\n"
     ]
    }
   ],
   "source": [
    "analyze_dilation_effect(img_broken, dilated_image)"
   ]
  },
  {
   "cell_type": "code",
   "execution_count": null,
   "id": "423e0a10",
   "metadata": {},
   "outputs": [],
   "source": []
  },
  {
   "cell_type": "code",
   "execution_count": null,
   "id": "e566526b",
   "metadata": {},
   "outputs": [],
   "source": []
  },
  {
   "cell_type": "code",
   "execution_count": null,
   "id": "91720fb6",
   "metadata": {},
   "outputs": [],
   "source": []
  }
 ],
 "metadata": {
  "kernelspec": {
   "display_name": "Python 3 (ipykernel)",
   "language": "python",
   "name": "python3"
  },
  "language_info": {
   "codemirror_mode": {
    "name": "ipython",
    "version": 3
   },
   "file_extension": ".py",
   "mimetype": "text/x-python",
   "name": "python",
   "nbconvert_exporter": "python",
   "pygments_lexer": "ipython3",
   "version": "3.11.5"
  }
 },
 "nbformat": 4,
 "nbformat_minor": 5
}
