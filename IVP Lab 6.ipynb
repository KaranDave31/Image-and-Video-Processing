{
 "cells": [
  {
   "cell_type": "code",
   "execution_count": 1,
   "id": "d1f9e0f1",
   "metadata": {},
   "outputs": [],
   "source": [
    "import cv2\n",
    "import numpy as np"
   ]
  },
  {
   "cell_type": "code",
   "execution_count": 2,
   "id": "a6bc11e8",
   "metadata": {},
   "outputs": [],
   "source": [
    "image = cv2.imread('pic.jpg')"
   ]
  },
  {
   "cell_type": "code",
   "execution_count": 3,
   "id": "961056b9",
   "metadata": {},
   "outputs": [],
   "source": [
    "cv2.imshow('Original', image)\n",
    "cv2.waitKey(0)\n",
    "cv2.destroyAllWindows()"
   ]
  },
  {
   "cell_type": "code",
   "execution_count": 4,
   "id": "c1df5a23",
   "metadata": {},
   "outputs": [],
   "source": [
    "gray_image = cv2.cvtColor(image,cv2.COLOR_BGR2GRAY)"
   ]
  },
  {
   "cell_type": "code",
   "execution_count": 5,
   "id": "db0d948a",
   "metadata": {},
   "outputs": [],
   "source": [
    "img = cv2.resize(gray_image,(512,512))"
   ]
  },
  {
   "cell_type": "code",
   "execution_count": 24,
   "id": "9b14b0b7",
   "metadata": {},
   "outputs": [],
   "source": [
    "cv2.imshow('Resized',img)\n",
    "cv2.waitKey(0)\n",
    "cv2.destroyAllWindows()"
   ]
  },
  {
   "cell_type": "code",
   "execution_count": 7,
   "id": "df3b0048",
   "metadata": {},
   "outputs": [],
   "source": [
    "# kernel_size = 3\n",
    " \n",
    "# padded_image = np.pad(img, kernel_size//2, mode='constant')\n",
    "# output_image = np.zeros_like(img)\n",
    " "
   ]
  },
  {
   "cell_type": "code",
   "execution_count": 8,
   "id": "2ee33036",
   "metadata": {},
   "outputs": [],
   "source": [
    "# for i in range(img.shape[0]):\n",
    "#     for j in range(img.shape[1]):\n",
    "#         window = padded_image[i:i+kernel_size, j:j+kernel_size]\n",
    "#         window_flat = window.flatten()\n",
    "#         window_sorted = np.sort(window_flat)\n",
    "#         median_value = window_sorted[kernel_size**2 // 2]\n",
    " \n",
    "#         output_image[i, j] = median_value\n",
    " \n",
    "# cv2.imshow(\"Smoothened Image\", output_image.astype(np.uint8))\n",
    "# cv2.waitKey(0)\n",
    "# cv2.destroyAllWindows()"
   ]
  },
  {
   "cell_type": "code",
   "execution_count": 9,
   "id": "db2ecf4c",
   "metadata": {},
   "outputs": [],
   "source": [
    "# image = output_image.astype(np.uint8)"
   ]
  },
  {
   "cell_type": "code",
   "execution_count": 10,
   "id": "4fda241a",
   "metadata": {},
   "outputs": [],
   "source": [
    "def gaussian_blur(image, kernel_size=5):\n",
    "    kernel = cv2.getGaussianKernel(kernel_size, 0)\n",
    "    kernel = kernel @ kernel.T\n",
    "    return cv2.filter2D(image, -1, kernel)"
   ]
  },
  {
   "cell_type": "code",
   "execution_count": 11,
   "id": "e8667383",
   "metadata": {},
   "outputs": [],
   "source": [
    "smoothed_image = gaussian_blur(img)"
   ]
  },
  {
   "cell_type": "code",
   "execution_count": 12,
   "id": "42b9e486",
   "metadata": {},
   "outputs": [],
   "source": [
    "cv2.imshow(\"Smoothened Image\", smoothed_image)\n",
    "cv2.waitKey(0)\n",
    "cv2.destroyAllWindows()"
   ]
  },
  {
   "cell_type": "code",
   "execution_count": 13,
   "id": "856475ce",
   "metadata": {},
   "outputs": [],
   "source": [
    "def normalize_and_convert(image):\n",
    "    image = np.absolute(image)  \n",
    "    image = np.uint8(255 * (image / np.max(image)))  \n",
    "    return image"
   ]
  },
  {
   "cell_type": "code",
   "execution_count": 16,
   "id": "edfcae43",
   "metadata": {},
   "outputs": [],
   "source": [
    "def roberts_operator(image):\n",
    "    kernel_x = np.array([[1, 0], [0, -1]])\n",
    "    kernel_y = np.array([[0, 1], [-1, 0]])\n",
    "    \n",
    "    gradient_x = cv2.filter2D(image, -1, kernel_x)\n",
    "    gradient_y = cv2.filter2D(image, -1, kernel_y)\n",
    "    combined = np.sqrt(gradient_x**2 + gradient_y**2)\n",
    "    \n",
    "    # Normalize and convert\n",
    "    gradient_x = normalize_and_convert(gradient_x)\n",
    "    gradient_y = normalize_and_convert(gradient_y)\n",
    "    combined = normalize_and_convert(combined)\n",
    "    \n",
    "    return gradient_x, gradient_y, combined"
   ]
  },
  {
   "cell_type": "code",
   "execution_count": 17,
   "id": "7d63c3e3",
   "metadata": {},
   "outputs": [],
   "source": [
    "roberts_x, roberts_y, roberts_combined = roberts_operator(smoothed_image)\n"
   ]
  },
  {
   "cell_type": "code",
   "execution_count": 18,
   "id": "9e1da3a1",
   "metadata": {},
   "outputs": [],
   "source": [
    "cv2.imshow(\"Roberts X Gradient\", roberts_x)\n",
    "cv2.imshow(\"Roberts Y Gradient\", roberts_y)\n",
    "cv2.imshow(\"Roberts Gradient\", roberts_combined)\n",
    "cv2.waitKey(0)\n",
    "cv2.destroyAllWindows()"
   ]
  },
  {
   "cell_type": "code",
   "execution_count": 14,
   "id": "f3b91c0b",
   "metadata": {},
   "outputs": [],
   "source": [
    "def sobel_operator(image):\n",
    "    kernel_x = np.array([[-1, 0, 1], [-2, 0, 2], [-1, 0, 1]])\n",
    "    kernel_y = np.array([[-1, -2, -1], [0, 0, 0], [1, 2, 1]])\n",
    "    \n",
    "    gradient_x = cv2.filter2D(image, -1, kernel_x)\n",
    "    gradient_y = cv2.filter2D(image, -1, kernel_y)\n",
    "    combined = np.sqrt(gradient_x**2 + gradient_y**2)\n",
    "    \n",
    "    # Normalize and convert\n",
    "    gradient_x = normalize_and_convert(gradient_x)\n",
    "    gradient_y = normalize_and_convert(gradient_y)\n",
    "    combined = normalize_and_convert(combined)\n",
    "    \n",
    "    return gradient_x, gradient_y, combined"
   ]
  },
  {
   "cell_type": "code",
   "execution_count": 15,
   "id": "cbf8637d",
   "metadata": {},
   "outputs": [],
   "source": [
    "sobel_x, sobel_y, sobel_combined = sobel_operator(smoothed_image)"
   ]
  },
  {
   "cell_type": "code",
   "execution_count": 16,
   "id": "0bd5cf3a",
   "metadata": {},
   "outputs": [],
   "source": [
    "\n",
    "cv2.imshow(\"Sobel X Gradient\", sobel_x)\n",
    "cv2.imshow(\"Sobel Y Gradient\", sobel_y)\n",
    "cv2.imshow(\"Sobel Gradient\", sobel_combined)\n",
    "cv2.waitKey(0)\n",
    "cv2.destroyAllWindows()"
   ]
  },
  {
   "cell_type": "code",
   "execution_count": 17,
   "id": "92e174ed",
   "metadata": {},
   "outputs": [],
   "source": [
    "def prewitt_operator(image):\n",
    "    kernel_x = np.array([[-1, 0, 1], [-1, 0, 1], [-1, 0, 1]])\n",
    "    kernel_y = np.array([[-1, -1, -1], [0, 0, 0], [1, 1, 1]])\n",
    "    \n",
    "    gradient_x = cv2.filter2D(image, -1, kernel_x)\n",
    "    gradient_y = cv2.filter2D(image, -1, kernel_y)\n",
    "    combined = np.sqrt(gradient_x**2 + gradient_y**2)\n",
    "    \n",
    "    # Normalize and convert\n",
    "    gradient_x = normalize_and_convert(gradient_x)\n",
    "    gradient_y = normalize_and_convert(gradient_y)\n",
    "    combined = normalize_and_convert(combined)\n",
    "    \n",
    "    return gradient_x, gradient_y, combined"
   ]
  },
  {
   "cell_type": "code",
   "execution_count": 18,
   "id": "5b20b329",
   "metadata": {},
   "outputs": [],
   "source": [
    "prewitt_x, prewitt_y, prewitt_combined = prewitt_operator(smoothed_image)\n"
   ]
  },
  {
   "cell_type": "code",
   "execution_count": 19,
   "id": "2fdd1c87",
   "metadata": {},
   "outputs": [],
   "source": [
    " \n",
    "cv2.imshow(\"Prewitt X Gradient\", prewitt_x)\n",
    "cv2.imshow(\"Prewitt Y Gradient\", prewitt_y)\n",
    "cv2.imshow(\"Prewitt Gradient\", prewitt_combined)\n",
    "cv2.waitKey(0)\n",
    "cv2.destroyAllWindows()"
   ]
  },
  {
   "cell_type": "code",
   "execution_count": 20,
   "id": "2647ee6d",
   "metadata": {},
   "outputs": [],
   "source": [
    "def laplacian_operator(image):\n",
    "    kernel = np.array([[0, 1, 0], [1, -4, 1], [0, 1, 0]])\n",
    "    laplacian_image = cv2.filter2D(image, -1, kernel)\n",
    "    \n",
    "    # Normalize and convert\n",
    "    laplacian_image = normalize_and_convert(laplacian_image)\n",
    "    \n",
    "    return laplacian_image"
   ]
  },
  {
   "cell_type": "code",
   "execution_count": 21,
   "id": "3ccf37e7",
   "metadata": {},
   "outputs": [],
   "source": [
    "laplacian_image = laplacian_operator(smoothed_image)\n"
   ]
  },
  {
   "cell_type": "code",
   "execution_count": 23,
   "id": "2fd92457",
   "metadata": {},
   "outputs": [],
   "source": [
    "cv2.imshow(\"Laplace Image\", laplacian_image)\n",
    "cv2.waitKey(0)\n",
    "cv2.destroyAllWindows()"
   ]
  },
  {
   "cell_type": "code",
   "execution_count": null,
   "id": "25d6dbc7",
   "metadata": {},
   "outputs": [],
   "source": []
  },
  {
   "cell_type": "code",
   "execution_count": null,
   "id": "2cc386c8",
   "metadata": {},
   "outputs": [],
   "source": []
  },
  {
   "cell_type": "code",
   "execution_count": null,
   "id": "de21271a",
   "metadata": {},
   "outputs": [],
   "source": []
  },
  {
   "cell_type": "code",
   "execution_count": 11,
   "id": "c6c7dce1",
   "metadata": {},
   "outputs": [],
   "source": [
    "image = output_image.astype(np.uint8)\n",
    " \n",
    "roberts_x = np.array([\n",
    "    [-1, 0],\n",
    "    [0, 1]\n",
    "])\n",
    " \n",
    "roberts_y = np.array([\n",
    "    [0, -1],\n",
    "    [1, 0]\n",
    "])\n",
    " \n",
    "\n",
    "roberts_x_grad = cv2.filter2D(image, -1, roberts_x)\n",
    "roberts_y_grad = cv2.filter2D(image, -1, roberts_y)\n",
    "roberts_grad = cv2.bitwise_or(roberts_x_grad, roberts_y_grad)\n",
    " \n",
    "roberts_grad_disp = cv2.convertScaleAbs(roberts_grad)\n",
    "\n",
    "# Display the results\n",
    "cv2.imshow(\"Roberts X Gradient\", roberts_x_grad)\n",
    "cv2.imshow(\"Roberts Y Gradient\", roberts_y_grad)\n",
    "cv2.imshow(\"Roberts Gradient\", roberts_grad_disp)\n",
    " "
   ]
  },
  {
   "cell_type": "code",
   "execution_count": null,
   "id": "7c85e366",
   "metadata": {},
   "outputs": [],
   "source": []
  },
  {
   "cell_type": "code",
   "execution_count": null,
   "id": "e09f493e",
   "metadata": {},
   "outputs": [],
   "source": [
    "sobel_x = np.array([\n",
    "    [-1, 0, 1],\n",
    "    [-2, 0, 2],\n",
    "    [-1, 0, 1]\n",
    "])\n",
    " \n",
    "sobel_y = np.array([\n",
    "    [-1, -2, -1],\n",
    "    [0, 0, 0],\n",
    "    [1, 2, 1]\n",
    "])\n",
    " \n",
    "prewitt_x = np.array([\n",
    "    [-1, 0, 1],\n",
    "    [-1, 0, 1],\n",
    "    [-1, 0, 1]\n",
    "])\n",
    " \n",
    "prewitt_y = np.array([\n",
    "    [-1, -1, -1],\n",
    "    [0, 0, 0],\n",
    "    [1, 1, 1]\n",
    "])\n",
    " "
   ]
  },
  {
   "cell_type": "code",
   "execution_count": null,
   "id": "5fdd7d57",
   "metadata": {},
   "outputs": [],
   "source": [
    "\n",
    "sobel_x_grad = cv2.filter2D(image, -1, sobel_x)\n",
    "sobel_y_grad = cv2.filter2D(image, -1, sobel_y)\n",
    "sobel_grad = cv2.bitwise_or(sobel_x_grad, sobel_y_grad)\n",
    " \n",
    "prewitt_x_grad = cv2.filter2D(image, -1, prewitt_x)\n",
    "prewitt_y_grad = cv2.filter2D(image, -1, prewitt_y)\n",
    "prewitt_grad = cv2.bitwise_or(prewitt_x_grad, prewitt_y_grad)\n",
    " \n",
    "sobel_grad_disp = cv2.convertScaleAbs(sobel_grad)\n",
    "prewitt_grad_disp = cv2.convertScaleAbs(prewitt_grad)\n",
    " "
   ]
  },
  {
   "cell_type": "code",
   "execution_count": null,
   "id": "9c78029d",
   "metadata": {},
   "outputs": [],
   "source": [
    "\n",
    " \n",
    "cv2.waitKey(0)\n",
    "cv2.destroyAllWindows()"
   ]
  },
  {
   "cell_type": "code",
   "execution_count": null,
   "id": "86dd3b7f",
   "metadata": {},
   "outputs": [],
   "source": []
  },
  {
   "cell_type": "code",
   "execution_count": 10,
   "id": "0f651818",
   "metadata": {},
   "outputs": [
    {
     "name": "stderr",
     "output_type": "stream",
     "text": [
      "C:\\Users\\mpstme.student\\AppData\\Local\\Temp\\ipykernel_23416\\100223948.py:6: RuntimeWarning: overflow encountered in ubyte_scalars\n",
      "  roberts_y[i, j] = np.abs(output_image[i, j] - output_image[i-1, j+1]) + np.abs(output_image[i, j+1] - output_image[i-1, j])\n",
      "C:\\Users\\mpstme.student\\AppData\\Local\\Temp\\ipykernel_23416\\100223948.py:5: RuntimeWarning: overflow encountered in ubyte_scalars\n",
      "  roberts_x[i, j] = np.abs(output_image[i, j] - output_image[i-1, j-1]) + np.abs(output_image[i, j-1] - output_image[i-1, j])\n"
     ]
    }
   ],
   "source": [
    "roberts_x = np.zeros((img.shape[0], img.shape[1]))\n",
    "roberts_y = np.zeros((img.shape[0], img.shape[1]))\n",
    "for i in range(1, img.shape[0]-1):\n",
    "    for j in range(1, img.shape[1]-1):\n",
    "        roberts_x[i, j] = np.abs(output_image[i, j] - output_image[i-1, j-1]) + np.abs(output_image[i, j-1] - output_image[i-1, j])\n",
    "        roberts_y[i, j] = np.abs(output_image[i, j] - output_image[i-1, j+1]) + np.abs(output_image[i, j+1] - output_image[i-1, j])\n"
   ]
  },
  {
   "cell_type": "code",
   "execution_count": 11,
   "id": "180025ca",
   "metadata": {},
   "outputs": [],
   "source": [
    "cv2.imshow('Roberts X', roberts_x)\n",
    "cv2.waitKey(0)\n",
    "cv2.destroyAllWindows()"
   ]
  },
  {
   "cell_type": "code",
   "execution_count": 12,
   "id": "1cae8ba9",
   "metadata": {},
   "outputs": [],
   "source": [
    "cv2.imshow('Roberts Y', roberts_y)\n",
    "cv2.waitKey(0)\n",
    "cv2.destroyAllWindows()"
   ]
  },
  {
   "cell_type": "code",
   "execution_count": 13,
   "id": "dbf55f34",
   "metadata": {},
   "outputs": [],
   "source": [
    "roberts_comb = np.zeros((img.shape[0], img.shape[1]))\n",
    "for i in range(img.shape[0]):\n",
    "    for j in range(img.shape[1]):\n",
    "        roberts_comb[i, j] = np.sqrt(roberts_x[i, j]**2 + roberts_y[i, j]**2)\n"
   ]
  },
  {
   "cell_type": "code",
   "execution_count": 14,
   "id": "ad3c66fd",
   "metadata": {},
   "outputs": [],
   "source": [
    "cv2.imshow('Roberts Combined', roberts_comb)\n",
    "cv2.waitKey(0)\n",
    "cv2.destroyAllWindows()"
   ]
  },
  {
   "cell_type": "code",
   "execution_count": 15,
   "id": "125c1161",
   "metadata": {},
   "outputs": [],
   "source": [
    "sobel_x = np.array([[-1, 0, 1], [-2, 0, 2], [-1, 0, 1]])\n",
    "sobel_y = np.array([[-1, -2, -1], [0, 0, 0], [1, 2, 1]])\n"
   ]
  },
  {
   "cell_type": "code",
   "execution_count": 16,
   "id": "f7ff4ad7",
   "metadata": {},
   "outputs": [],
   "source": [
    "sobel_x_img = np.zeros((img.shape[0], img.shape[1]))\n",
    "sobel_y_img = np.zeros((img.shape[0], img.shape[1]))\n",
    "for i in range(1, img.shape[0]-1):\n",
    "    for j in range(1, img.shape[1]-1):\n",
    "        sobel_x_window = output_image[i-1:i+2, j-1:j+2]\n",
    "        sobel_y_window = output_image[i-1:i+2, j-1:j+2]\n",
    "        sobel_x_img[i, j] = np.abs(np.sum(sobel_x_window * sobel_x))\n",
    "        sobel_y_img[i, j] = np.abs(np.sum(sobel_y_window * sobel_y))\n"
   ]
  },
  {
   "cell_type": "code",
   "execution_count": 17,
   "id": "690c439f",
   "metadata": {},
   "outputs": [],
   "source": [
    "sobel_comb = np.zeros((img.shape[0], img.shape[1]))\n",
    "for i in range(img.shape[0]):\n",
    "    for j in range(img.shape[1]):\n",
    "        sobel_comb[i, j] = np.sqrt(sobel_x_img[i, j]**2 + sobel_y_img[i, j]**2)\n"
   ]
  },
  {
   "cell_type": "code",
   "execution_count": 22,
   "id": "bea2f0dc",
   "metadata": {},
   "outputs": [],
   "source": [
    "cv2.imshow('Sobel X', sobel_x_img)\n",
    "cv2.waitKey(0)\n",
    "cv2.destroyAllWindows()"
   ]
  },
  {
   "cell_type": "code",
   "execution_count": 19,
   "id": "3ee3f80c",
   "metadata": {},
   "outputs": [],
   "source": [
    "cv2.imshow('Sobel Y', sobel_y_img)\n",
    "cv2.waitKey(0)\n",
    "cv2.destroyAllWindows()"
   ]
  },
  {
   "cell_type": "code",
   "execution_count": 20,
   "id": "70af4468",
   "metadata": {},
   "outputs": [
    {
     "ename": "IndexError",
     "evalue": "index 3 is out of bounds for axis 1 with size 3",
     "output_type": "error",
     "traceback": [
      "\u001b[1;31m---------------------------------------------------------------------------\u001b[0m",
      "\u001b[1;31mIndexError\u001b[0m                                Traceback (most recent call last)",
      "\u001b[1;32m~\\AppData\\Local\\Temp\\ipykernel_23416\\1351512269.py\u001b[0m in \u001b[0;36m<module>\u001b[1;34m\u001b[0m\n\u001b[0;32m      2\u001b[0m \u001b[1;32mfor\u001b[0m \u001b[0mi\u001b[0m \u001b[1;32min\u001b[0m \u001b[0mrange\u001b[0m\u001b[1;33m(\u001b[0m\u001b[0mimg\u001b[0m\u001b[1;33m.\u001b[0m\u001b[0mshape\u001b[0m\u001b[1;33m[\u001b[0m\u001b[1;36m0\u001b[0m\u001b[1;33m]\u001b[0m\u001b[1;33m)\u001b[0m\u001b[1;33m:\u001b[0m\u001b[1;33m\u001b[0m\u001b[1;33m\u001b[0m\u001b[0m\n\u001b[0;32m      3\u001b[0m     \u001b[1;32mfor\u001b[0m \u001b[0mj\u001b[0m \u001b[1;32min\u001b[0m \u001b[0mrange\u001b[0m\u001b[1;33m(\u001b[0m\u001b[0mimg\u001b[0m\u001b[1;33m.\u001b[0m\u001b[0mshape\u001b[0m\u001b[1;33m[\u001b[0m\u001b[1;36m1\u001b[0m\u001b[1;33m]\u001b[0m\u001b[1;33m)\u001b[0m\u001b[1;33m:\u001b[0m\u001b[1;33m\u001b[0m\u001b[1;33m\u001b[0m\u001b[0m\n\u001b[1;32m----> 4\u001b[1;33m         \u001b[0msobel_comb\u001b[0m\u001b[1;33m[\u001b[0m\u001b[0mi\u001b[0m\u001b[1;33m,\u001b[0m \u001b[0mj\u001b[0m\u001b[1;33m]\u001b[0m \u001b[1;33m=\u001b[0m \u001b[0mnp\u001b[0m\u001b[1;33m.\u001b[0m\u001b[0msqrt\u001b[0m\u001b[1;33m(\u001b[0m\u001b[0msobel_x\u001b[0m\u001b[1;33m[\u001b[0m\u001b[0mi\u001b[0m\u001b[1;33m,\u001b[0m \u001b[0mj\u001b[0m\u001b[1;33m]\u001b[0m\u001b[1;33m**\u001b[0m\u001b[1;36m2\u001b[0m \u001b[1;33m+\u001b[0m \u001b[0msobel_y\u001b[0m\u001b[1;33m[\u001b[0m\u001b[0mi\u001b[0m\u001b[1;33m,\u001b[0m \u001b[0mj\u001b[0m\u001b[1;33m]\u001b[0m\u001b[1;33m**\u001b[0m\u001b[1;36m2\u001b[0m\u001b[1;33m)\u001b[0m\u001b[1;33m\u001b[0m\u001b[1;33m\u001b[0m\u001b[0m\n\u001b[0m",
      "\u001b[1;31mIndexError\u001b[0m: index 3 is out of bounds for axis 1 with size 3"
     ]
    }
   ],
   "source": [
    "sobel_comb = np.zeros((img.shape[0], img.shape[1]))\n",
    "for i in range(img.shape[0]):\n",
    "    for j in range(img.shape[1]):\n",
    "        sobel_comb[i, j] = np.sqrt(sobel_x[i, j]**2 + sobel_y[i, j]**2)\n"
   ]
  },
  {
   "cell_type": "code",
   "execution_count": 21,
   "id": "53217f04",
   "metadata": {},
   "outputs": [],
   "source": [
    "cv2.imshow('Sobel Combined', sobel_comb)\n",
    "cv2.waitKey(0)\n",
    "cv2.destroyAllWindows()"
   ]
  },
  {
   "cell_type": "code",
   "execution_count": 27,
   "id": "5492e783",
   "metadata": {},
   "outputs": [
    {
     "ename": "NameError",
     "evalue": "name 'smooth_img' is not defined",
     "output_type": "error",
     "traceback": [
      "\u001b[1;31m---------------------------------------------------------------------------\u001b[0m",
      "\u001b[1;31mNameError\u001b[0m                                 Traceback (most recent call last)",
      "\u001b[1;32m~\\AppData\\Local\\Temp\\ipykernel_29504\\2912303130.py\u001b[0m in \u001b[0;36m<module>\u001b[1;34m\u001b[0m\n\u001b[0;32m      3\u001b[0m \u001b[1;32mfor\u001b[0m \u001b[0mi\u001b[0m \u001b[1;32min\u001b[0m \u001b[0mrange\u001b[0m\u001b[1;33m(\u001b[0m\u001b[1;36m1\u001b[0m\u001b[1;33m,\u001b[0m \u001b[0mimg\u001b[0m\u001b[1;33m.\u001b[0m\u001b[0mshape\u001b[0m\u001b[1;33m[\u001b[0m\u001b[1;36m0\u001b[0m\u001b[1;33m]\u001b[0m\u001b[1;33m-\u001b[0m\u001b[1;36m1\u001b[0m\u001b[1;33m)\u001b[0m\u001b[1;33m:\u001b[0m\u001b[1;33m\u001b[0m\u001b[1;33m\u001b[0m\u001b[0m\n\u001b[0;32m      4\u001b[0m     \u001b[1;32mfor\u001b[0m \u001b[0mj\u001b[0m \u001b[1;32min\u001b[0m \u001b[0mrange\u001b[0m\u001b[1;33m(\u001b[0m\u001b[1;36m1\u001b[0m\u001b[1;33m,\u001b[0m \u001b[0mimg\u001b[0m\u001b[1;33m.\u001b[0m\u001b[0mshape\u001b[0m\u001b[1;33m[\u001b[0m\u001b[1;36m1\u001b[0m\u001b[1;33m]\u001b[0m\u001b[1;33m-\u001b[0m\u001b[1;36m1\u001b[0m\u001b[1;33m)\u001b[0m\u001b[1;33m:\u001b[0m\u001b[1;33m\u001b[0m\u001b[1;33m\u001b[0m\u001b[0m\n\u001b[1;32m----> 5\u001b[1;33m         prewitt_x[i, j] = np.abs(-smooth_img[i-1, j-1] - smooth_img[i, j-1] - smooth_img[i+1, j-1] + \n\u001b[0m\u001b[0;32m      6\u001b[0m                                 smooth_img[i-1, j+1] + smooth_img[i, j+1] + smooth_img[i+1, j+1])\n\u001b[0;32m      7\u001b[0m         prewitt_y[i, j] = np.abs(-smooth_img[i-1, j-1] - smooth_img[i-1, j] - smooth_img[i-1, j+1] + \n",
      "\u001b[1;31mNameError\u001b[0m: name 'smooth_img' is not defined"
     ]
    }
   ],
   "source": [
    "prewitt_x = np.zeros((img.shape[0], img.shape[1]))\n",
    "prewitt_y = np.zeros((img.shape[0], img.shape[1]))\n",
    "for i in range(1, img.shape[0]-1):\n",
    "    for j in range(1, img.shape[1]-1):\n",
    "        prewitt_x[i, j] = np.abs(-smooth_img[i-1, j-1] - smooth_img[i, j-1] - smooth_img[i+1, j-1] + \n",
    "                                smooth_img[i-1, j+1] + smooth_img[i, j+1] + smooth_img[i+1, j+1])\n",
    "        prewitt_y[i, j] = np.abs(-smooth_img[i-1, j-1] - smooth_img[i-1, j] - smooth_img[i-1, j+1] + \n",
    "                                smooth_img[i+1, j-1] + smooth_img[i+1, j] + smooth_img[i+1, j+1])\n"
   ]
  },
  {
   "cell_type": "code",
   "execution_count": null,
   "id": "1d81f5c6",
   "metadata": {},
   "outputs": [],
   "source": [
    "cv2.imshow('Prewitt X', prewitt_x)\n",
    "cv2.waitKey(0)\n",
    "cv2.destroyAllWindows()"
   ]
  },
  {
   "cell_type": "code",
   "execution_count": null,
   "id": "2b866053",
   "metadata": {},
   "outputs": [],
   "source": [
    "cv2.imshow('Prewitt Y', prewitt_y)\n",
    "cv2.waitKey(0)\n",
    "cv2.destroyAllWindows()"
   ]
  },
  {
   "cell_type": "code",
   "execution_count": null,
   "id": "395c0576",
   "metadata": {},
   "outputs": [],
   "source": [
    "prewitt_comb = np.zeros((img.shape[0], img.shape[1]))\n",
    "for i in range(img.shape[0]):\n",
    "    for j in range(img.shape[1]):\n",
    "        prewitt_comb[i, j] = np.sqrt(prewitt_x[i, j]**2 + prewitt_y[i, j]**2)\n"
   ]
  },
  {
   "cell_type": "code",
   "execution_count": null,
   "id": "f0fecd9d",
   "metadata": {},
   "outputs": [],
   "source": [
    "cv2.imshow('Prewitt Combined', prewitt_comb)\n",
    "cv2.waitKey(0)\n",
    "cv2.destroyAllWindows()"
   ]
  },
  {
   "cell_type": "code",
   "execution_count": 12,
   "id": "6922abaf",
   "metadata": {},
   "outputs": [],
   "source": [
    "laplace_kernel = np.array([\n",
    "    [0,1,0],\n",
    "    [1,-4,1],\n",
    "    [0,1,0]\n",
    "])\n",
    "\n",
    "laplace_img = cv2.filter2D(output_image.astype(np.uint8),-1,laplace_kernel)\n",
    "cv2.imshow(\"Laplace Image\", laplace_img)\n",
    "cv2.waitKey(0)\n",
    "cv2.destroyAllWindows()"
   ]
  },
  {
   "cell_type": "code",
   "execution_count": 13,
   "id": "46f2324d",
   "metadata": {},
   "outputs": [],
   "source": [
    "enhanced_laplace_kernel = np.array([\n",
    "    [-1,-1,-1],\n",
    "    [-1,9,-1],\n",
    "    [-1,-1,-1]\n",
    "])\n",
    "\n",
    "enhanced_laplace_img = cv2.filter2D(output_image.astype(np.uint8),-1,enhanced_laplace_kernel)\n",
    "cv2.imshow(\"Enchanced Laplace Image\", enhanced_laplace_img)\n",
    "cv2.waitKey(0)\n",
    "cv2.destroyAllWindows()"
   ]
  },
  {
   "cell_type": "code",
   "execution_count": null,
   "id": "84ebfabe",
   "metadata": {},
   "outputs": [],
   "source": []
  },
  {
   "cell_type": "code",
   "execution_count": 7,
   "id": "4bd2cdbe",
   "metadata": {},
   "outputs": [
    {
     "name": "stderr",
     "output_type": "stream",
     "text": [
      "C:\\Users\\mpstme.student\\AppData\\Local\\Temp\\ipykernel_9876\\2838966591.py:4: RuntimeWarning: overflow encountered in ubyte_scalars\n",
      "  smooth_img[i, j] = (img[i-1, j-1] + img[i-1, j] + img[i-1, j+1] +\n"
     ]
    }
   ],
   "source": []
  },
  {
   "cell_type": "code",
   "execution_count": 9,
   "id": "bc5a3723",
   "metadata": {},
   "outputs": [],
   "source": []
  },
  {
   "cell_type": "code",
   "execution_count": 9,
   "id": "10db77bb",
   "metadata": {},
   "outputs": [],
   "source": []
  },
  {
   "cell_type": "code",
   "execution_count": 17,
   "id": "cfca663a",
   "metadata": {},
   "outputs": [],
   "source": []
  },
  {
   "cell_type": "code",
   "execution_count": 11,
   "id": "2a3ed9f3",
   "metadata": {},
   "outputs": [],
   "source": []
  },
  {
   "cell_type": "code",
   "execution_count": 12,
   "id": "7ffa4fd6",
   "metadata": {},
   "outputs": [],
   "source": []
  },
  {
   "cell_type": "code",
   "execution_count": 13,
   "id": "9ad37ec4",
   "metadata": {},
   "outputs": [],
   "source": [
    "laplacian = np.zeros((img.shape[0], img.shape[1]))\n",
    "for i in range(1, img.shape[0]-1):\n",
    "    for j in range(1, img.shape[1]-1):\n",
    "        laplacian[i, j] = 4*smooth_img[i, j] - smooth_img[i-1, j] - smooth_img[i+1, j] - smooth_img[i, j-1] - smooth_img[i, j+1]\n"
   ]
  },
  {
   "cell_type": "code",
   "execution_count": 8,
   "id": "268aeab9",
   "metadata": {},
   "outputs": [],
   "source": []
  },
  {
   "cell_type": "code",
   "execution_count": 15,
   "id": "86307629",
   "metadata": {},
   "outputs": [],
   "source": []
  },
  {
   "cell_type": "code",
   "execution_count": 16,
   "id": "a83d09bb",
   "metadata": {},
   "outputs": [],
   "source": []
  },
  {
   "cell_type": "code",
   "execution_count": 17,
   "id": "22e28301",
   "metadata": {},
   "outputs": [],
   "source": []
  },
  {
   "cell_type": "code",
   "execution_count": 18,
   "id": "786f8223",
   "metadata": {},
   "outputs": [],
   "source": []
  },
  {
   "cell_type": "code",
   "execution_count": 19,
   "id": "7b4ff77f",
   "metadata": {},
   "outputs": [],
   "source": []
  },
  {
   "cell_type": "code",
   "execution_count": 27,
   "id": "969c4024",
   "metadata": {},
   "outputs": [],
   "source": []
  },
  {
   "cell_type": "code",
   "execution_count": 26,
   "id": "927a308c",
   "metadata": {},
   "outputs": [],
   "source": []
  },
  {
   "cell_type": "code",
   "execution_count": 22,
   "id": "dde05407",
   "metadata": {},
   "outputs": [],
   "source": []
  },
  {
   "cell_type": "code",
   "execution_count": 25,
   "id": "bddf9334",
   "metadata": {},
   "outputs": [],
   "source": []
  },
  {
   "cell_type": "code",
   "execution_count": 24,
   "id": "2905f893",
   "metadata": {},
   "outputs": [],
   "source": [
    "cv2.imshow('Laplacian', laplacian)\n",
    "cv2.waitKey(0)\n",
    "cv2.destroyAllWindows()"
   ]
  },
  {
   "cell_type": "code",
   "execution_count": null,
   "id": "d6f4d429",
   "metadata": {},
   "outputs": [],
   "source": [
    "\n",
    "\n",
    "# Load the input image\n",
    "\n",
    "# Apply a smoothing filter to the input image\n",
    "\n",
    "# Apply Roberts, Sobel, and Prewitt operators\n",
    "roberts_x = cv2.Sobel(smooth_img, cv2.CV_8U, 1, 0, ksize=3)\n",
    "roberts_y = cv2.Sobel(smooth_img, cv2.CV_8U, 0, 1, ksize=3)\n",
    "\n",
    "sobel_x = cv2.Sobel(smooth_img, cv2.CV_8U, 1, 0, ksize=3)\n",
    "sobel_y = cv2.Sobel(smooth_img, cv2.CV_8U, 0, 1, ksize=3)\n",
    "\n",
    "prewitt_x = cv2.Prewitt(smooth_img, cv2.CV_8U, 1, 0)\n",
    "prewitt_y = cv2.Prewitt(smooth_img, cv2.CV_8U, 0, 1)\n",
    "\n",
    "# Combine X and Y gradients\n",
    "roberts_comb = cv2.addWeighted(roberts_x, 0.5, roberts_y, 0.5, 0)\n",
    "sobel_comb = cv2.addWeighted(sobel_x, 0.5, sobel_y, 0.5, 0)\n",
    "prewitt_comb = cv2.addWeighted(prewitt_x, 0.5, prewitt_y, 0.5, 0)\n",
    "\n",
    "# Display the original and output images\n",
    "cv2.imshow('Original', img)\n",
    "cv2.imshow('Roberts X', roberts_x)\n",
    "cv2.imshow('Roberts Y', roberts_y)\n",
    "cv2.imshow('Roberts Combined', roberts_comb)\n",
    "cv2.imshow('Sobel X', sobel_x)\n",
    "cv2.imshow('Sobel Y', sobel_y)\n",
    "cv2.imshow('Sobel Combined', sobel_comb)\n",
    "cv2.imshow('Prewitt X', prewitt_x)\n",
    "cv2.imshow('Prewitt Y', prewitt_y)\n",
    "cv2.imshow('Prewitt Combined', prewitt_comb)\n",
    "\n",
    "# Apply Laplacian filter\n",
    "laplacian = cv2.Laplacian(smooth_img, cv2.CV_8U)\n",
    "\n",
    "# Display the original and output images\n",
    "cv2.imshow('Original', img)\n",
    "cv2.imshow('Laplacian', laplacian)\n",
    "\n",
    "# Wait for a key press and close all windows\n",
    "cv2.waitKey(0)\n",
    "cv2.destroyAllWindows()"
   ]
  },
  {
   "cell_type": "code",
   "execution_count": null,
   "id": "12f036e8",
   "metadata": {},
   "outputs": [],
   "source": []
  }
 ],
 "metadata": {
  "kernelspec": {
   "display_name": "Python 3 (ipykernel)",
   "language": "python",
   "name": "python3"
  },
  "language_info": {
   "codemirror_mode": {
    "name": "ipython",
    "version": 3
   },
   "file_extension": ".py",
   "mimetype": "text/x-python",
   "name": "python",
   "nbconvert_exporter": "python",
   "pygments_lexer": "ipython3",
   "version": "3.11.5"
  }
 },
 "nbformat": 4,
 "nbformat_minor": 5
}
