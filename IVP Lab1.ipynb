{
 "cells": [
  {
   "cell_type": "code",
   "execution_count": 90,
   "id": "d22b071a",
   "metadata": {},
   "outputs": [],
   "source": [
    "#!pip install opencv-python"
   ]
  },
  {
   "cell_type": "code",
   "execution_count": 1,
   "id": "ae0d0b71",
   "metadata": {},
   "outputs": [],
   "source": [
    "import cv2"
   ]
  },
  {
   "cell_type": "markdown",
   "id": "a04df9fc",
   "metadata": {},
   "source": [
    "Reading the Image"
   ]
  },
  {
   "cell_type": "code",
   "execution_count": 6,
   "id": "ac2930ef",
   "metadata": {},
   "outputs": [],
   "source": [
    "import matplotlib.pyplot as plt"
   ]
  },
  {
   "cell_type": "code",
   "execution_count": 4,
   "id": "cebd85df",
   "metadata": {},
   "outputs": [],
   "source": [
    "image = cv2.imread(\"pic.jpg\")"
   ]
  },
  {
   "cell_type": "markdown",
   "id": "558ac78c",
   "metadata": {},
   "source": [
    "Displaying the Image (with cv2)"
   ]
  },
  {
   "cell_type": "code",
   "execution_count": 24,
   "id": "cd6af6da",
   "metadata": {},
   "outputs": [],
   "source": [
    "cv2.imshow('Image', image)\n",
    "cv2.waitKey(0)\n",
    "cv2.destroyAllWindows()"
   ]
  },
  {
   "cell_type": "markdown",
   "id": "1508c1f6",
   "metadata": {},
   "source": [
    "Displaying the Image (with matplotlib)"
   ]
  },
  {
   "cell_type": "code",
   "execution_count": 8,
   "id": "22e6d8cf",
   "metadata": {},
   "outputs": [],
   "source": [
    "# plt.imshow(image)\n",
    "# plt.axis(\"off\")\n",
    "# plt.show()"
   ]
  },
  {
   "cell_type": "markdown",
   "id": "2fd9bc91",
   "metadata": {},
   "source": [
    "Checking the Type of Image"
   ]
  },
  {
   "cell_type": "code",
   "execution_count": 16,
   "id": "5f3e4c6a",
   "metadata": {},
   "outputs": [
    {
     "data": {
      "text/plain": [
       "numpy.ndarray"
      ]
     },
     "execution_count": 16,
     "metadata": {},
     "output_type": "execute_result"
    }
   ],
   "source": [
    "type(image)"
   ]
  },
  {
   "cell_type": "markdown",
   "id": "81075263",
   "metadata": {},
   "source": [
    "Checking the content of Image "
   ]
  },
  {
   "cell_type": "code",
   "execution_count": 15,
   "id": "ce07a183",
   "metadata": {},
   "outputs": [
    {
     "data": {
      "text/plain": [
       "array([[[188, 201, 209],\n",
       "        [188, 201, 209],\n",
       "        [189, 202, 210],\n",
       "        ...,\n",
       "        [  0,   7,  14],\n",
       "        [  0,   8,  17],\n",
       "        [  0,   8,  17]],\n",
       "\n",
       "       [[198, 211, 219],\n",
       "        [198, 211, 219],\n",
       "        [198, 211, 219],\n",
       "        ...,\n",
       "        [  8,  17,  26],\n",
       "        [  7,  16,  25],\n",
       "        [  7,  16,  25]],\n",
       "\n",
       "       [[199, 212, 220],\n",
       "        [199, 212, 220],\n",
       "        [199, 212, 220],\n",
       "        ...,\n",
       "        [  1,  11,  21],\n",
       "        [  1,  11,  21],\n",
       "        [  1,  11,  21]],\n",
       "\n",
       "       ...,\n",
       "\n",
       "       [[ 52,  57,  58],\n",
       "        [ 50,  55,  56],\n",
       "        [ 48,  53,  54],\n",
       "        ...,\n",
       "        [ 78,  80,  81],\n",
       "        [ 74,  76,  77],\n",
       "        [ 74,  76,  77]],\n",
       "\n",
       "       [[ 47,  52,  53],\n",
       "        [ 47,  52,  53],\n",
       "        [ 46,  51,  52],\n",
       "        ...,\n",
       "        [ 78,  80,  81],\n",
       "        [ 76,  78,  79],\n",
       "        [ 76,  78,  79]],\n",
       "\n",
       "       [[ 41,  46,  47],\n",
       "        [ 41,  46,  47],\n",
       "        [ 41,  46,  47],\n",
       "        ...,\n",
       "        [ 79,  81,  82],\n",
       "        [ 78,  80,  81],\n",
       "        [ 78,  80,  81]]], dtype=uint8)"
      ]
     },
     "execution_count": 15,
     "metadata": {},
     "output_type": "execute_result"
    }
   ],
   "source": [
    "image"
   ]
  },
  {
   "cell_type": "markdown",
   "id": "99eebd1c",
   "metadata": {},
   "source": [
    "Displaying Size of the Image"
   ]
  },
  {
   "cell_type": "code",
   "execution_count": 13,
   "id": "052b2885",
   "metadata": {},
   "outputs": [
    {
     "data": {
      "text/plain": [
       "1560240"
      ]
     },
     "execution_count": 13,
     "metadata": {},
     "output_type": "execute_result"
    }
   ],
   "source": [
    "image.size"
   ]
  },
  {
   "cell_type": "markdown",
   "id": "a68fc7f5",
   "metadata": {},
   "source": [
    "Displaying Shape of the Image"
   ]
  },
  {
   "cell_type": "code",
   "execution_count": 18,
   "id": "183d415d",
   "metadata": {},
   "outputs": [
    {
     "data": {
      "text/plain": [
       "(1320, 394, 3)"
      ]
     },
     "execution_count": 18,
     "metadata": {},
     "output_type": "execute_result"
    }
   ],
   "source": [
    "image.shape"
   ]
  },
  {
   "cell_type": "markdown",
   "id": "9c31b044",
   "metadata": {},
   "source": [
    "Check Availability of 3 color planes"
   ]
  },
  {
   "cell_type": "code",
   "execution_count": 19,
   "id": "42f12ee3",
   "metadata": {},
   "outputs": [
    {
     "name": "stdout",
     "output_type": "stream",
     "text": [
      "Number of channels: 3\n"
     ]
    }
   ],
   "source": [
    "print(f\"Number of channels: {image.shape[2]}\")"
   ]
  },
  {
   "cell_type": "markdown",
   "id": "7368ecbd",
   "metadata": {},
   "source": [
    "Dimensions of the Image"
   ]
  },
  {
   "cell_type": "code",
   "execution_count": 20,
   "id": "905eb34d",
   "metadata": {},
   "outputs": [
    {
     "data": {
      "text/plain": [
       "3"
      ]
     },
     "execution_count": 20,
     "metadata": {},
     "output_type": "execute_result"
    }
   ],
   "source": [
    "image.ndim"
   ]
  },
  {
   "cell_type": "markdown",
   "id": "abeec29d",
   "metadata": {},
   "source": [
    "Resizing the Image"
   ]
  },
  {
   "cell_type": "code",
   "execution_count": 25,
   "id": "3b534b37",
   "metadata": {},
   "outputs": [],
   "source": [
    "resized_image = cv2.resize(image, (200, 200))"
   ]
  },
  {
   "cell_type": "code",
   "execution_count": 26,
   "id": "070e3704",
   "metadata": {},
   "outputs": [],
   "source": [
    "cv2.imshow('Resized Image', resized_image)\n",
    "cv2.waitKey(0)\n",
    "cv2.destroyAllWindows()"
   ]
  },
  {
   "cell_type": "code",
   "execution_count": 29,
   "id": "99b9c921",
   "metadata": {},
   "outputs": [
    {
     "name": "stdout",
     "output_type": "stream",
     "text": [
      "Size of the image: 120000\n",
      "Shape of the image: (200, 200, 3)\n"
     ]
    }
   ],
   "source": [
    "print(\"Size of the image:\", resized_image.size)\n",
    "print(\"Shape of the image:\", resized_image.shape)"
   ]
  },
  {
   "cell_type": "markdown",
   "id": "a8784d82",
   "metadata": {},
   "source": [
    "Cropping The Image"
   ]
  },
  {
   "cell_type": "code",
   "execution_count": 74,
   "id": "7f1fb314",
   "metadata": {},
   "outputs": [],
   "source": [
    "cropped_image = image[200:300, 300:400]"
   ]
  },
  {
   "cell_type": "code",
   "execution_count": 75,
   "id": "cd99f2c0",
   "metadata": {},
   "outputs": [],
   "source": [
    "cv2.imshow('Cropped Image', cropped_image)\n",
    "cv2.waitKey(0)\n",
    "cv2.destroyAllWindows()"
   ]
  },
  {
   "cell_type": "markdown",
   "id": "5237b1f9",
   "metadata": {},
   "source": [
    "Rotating Image"
   ]
  },
  {
   "cell_type": "code",
   "execution_count": 76,
   "id": "aa0adf54",
   "metadata": {},
   "outputs": [],
   "source": [
    "height, width = image.shape[:2]\n",
    "angle = 45"
   ]
  },
  {
   "cell_type": "code",
   "execution_count": 77,
   "id": "203cbae6",
   "metadata": {},
   "outputs": [],
   "source": [
    "rotation_matrix = cv2.getRotationMatrix2D((width/2,height/2), angle, 1)"
   ]
  },
  {
   "cell_type": "code",
   "execution_count": 78,
   "id": "11e8eade",
   "metadata": {},
   "outputs": [],
   "source": [
    "rotated_image = cv2.warpAffine(image, rotation_matrix, (width,height))\n"
   ]
  },
  {
   "cell_type": "code",
   "execution_count": 79,
   "id": "2487b0d7",
   "metadata": {},
   "outputs": [],
   "source": [
    "cv2.imshow('Rotated Image', rotated_image)\n",
    "cv2.waitKey(0)\n",
    "cv2.destroyAllWindows()"
   ]
  },
  {
   "cell_type": "markdown",
   "id": "2d0b2142",
   "metadata": {},
   "source": [
    "Blurring the Image"
   ]
  },
  {
   "cell_type": "code",
   "execution_count": 80,
   "id": "75e03a87",
   "metadata": {},
   "outputs": [],
   "source": [
    "blurred_image = cv2.GaussianBlur(image, (15,15), 0)"
   ]
  },
  {
   "cell_type": "code",
   "execution_count": 81,
   "id": "397dc194",
   "metadata": {},
   "outputs": [],
   "source": [
    "cv2.imshow('Blurred Image', blurred_image)\n",
    "cv2.waitKey(0)\n",
    "cv2.destroyAllWindows()"
   ]
  },
  {
   "cell_type": "markdown",
   "id": "301add65",
   "metadata": {},
   "source": [
    "Sharpening the Image"
   ]
  },
  {
   "cell_type": "code",
   "execution_count": 82,
   "id": "eaaf91c0",
   "metadata": {},
   "outputs": [],
   "source": [
    "sharpened_image = cv2.Laplacian(image, cv2.CV_64F)"
   ]
  },
  {
   "cell_type": "code",
   "execution_count": 83,
   "id": "658c3b85",
   "metadata": {},
   "outputs": [],
   "source": [
    "cv2.imshow('Sharpened Image', sharpened_image)\n",
    "cv2.waitKey(0)\n",
    "cv2.destroyAllWindows()"
   ]
  },
  {
   "cell_type": "markdown",
   "id": "2eee6ebe",
   "metadata": {},
   "source": [
    "Edge Detection"
   ]
  },
  {
   "cell_type": "code",
   "execution_count": 84,
   "id": "2efafabb",
   "metadata": {},
   "outputs": [],
   "source": [
    "gray_image = cv2.cvtColor(image, cv2.COLOR_BGR2GRAY)"
   ]
  },
  {
   "cell_type": "code",
   "execution_count": 85,
   "id": "46ab243e",
   "metadata": {},
   "outputs": [],
   "source": [
    "edges = cv2.Canny(gray_image, 100, 200)"
   ]
  },
  {
   "cell_type": "code",
   "execution_count": 86,
   "id": "450e2c71",
   "metadata": {},
   "outputs": [],
   "source": [
    "cv2.imshow('Edge', edges)\n",
    "cv2.waitKey(0)\n",
    "cv2.destroyAllWindows()"
   ]
  },
  {
   "cell_type": "markdown",
   "id": "b33f2fac",
   "metadata": {},
   "source": [
    "Image Thresholding"
   ]
  },
  {
   "cell_type": "code",
   "execution_count": 88,
   "id": "f8250d50",
   "metadata": {},
   "outputs": [],
   "source": [
    "_, thresholded_image = cv2.threshold(image, 127, 255, cv2.THRESH_BINARY)"
   ]
  },
  {
   "cell_type": "code",
   "execution_count": 89,
   "id": "ea42aeb5",
   "metadata": {},
   "outputs": [],
   "source": [
    "cv2.imshow('Thresholded Image', thresholded_image)\n",
    "cv2.waitKey(0)\n",
    "cv2.destroyAllWindows()\n"
   ]
  },
  {
   "cell_type": "markdown",
   "id": "69f7ff85",
   "metadata": {},
   "source": [
    "# TASK 2"
   ]
  },
  {
   "cell_type": "code",
   "execution_count": 30,
   "id": "58dc8834",
   "metadata": {},
   "outputs": [],
   "source": [
    "image1 = cv2.imread(\"pic.jpg\")"
   ]
  },
  {
   "cell_type": "code",
   "execution_count": 31,
   "id": "db6f02e2",
   "metadata": {},
   "outputs": [],
   "source": [
    "image2 = cv2.imread(\"homelander2.jpeg\")"
   ]
  },
  {
   "cell_type": "code",
   "execution_count": 32,
   "id": "1e120290",
   "metadata": {},
   "outputs": [],
   "source": [
    "cv2.imshow('Image 1', image1)\n",
    "cv2.waitKey(0)\n",
    "cv2.destroyAllWindows()"
   ]
  },
  {
   "cell_type": "code",
   "execution_count": 33,
   "id": "00538635",
   "metadata": {},
   "outputs": [],
   "source": [
    "cv2.imshow('Image 2', image2)\n",
    "cv2.waitKey(0)\n",
    "cv2.destroyAllWindows()"
   ]
  },
  {
   "cell_type": "markdown",
   "id": "b086385c",
   "metadata": {},
   "source": [
    "Adding Two Images"
   ]
  },
  {
   "cell_type": "code",
   "execution_count": 35,
   "id": "7c84d6f0",
   "metadata": {},
   "outputs": [],
   "source": [
    "image2_resized = cv2.resize(image2, (image1.shape[1], image1.shape[0]))"
   ]
  },
  {
   "cell_type": "code",
   "execution_count": 36,
   "id": "0ee655de",
   "metadata": {},
   "outputs": [
    {
     "name": "stdout",
     "output_type": "stream",
     "text": [
      "Shape of image1: (1320, 394, 3)\n",
      "Shape of resized image2: (1320, 394, 3)\n"
     ]
    }
   ],
   "source": [
    "print(\"Shape of image1:\", image1.shape)\n",
    "print(\"Shape of resized image2:\", image2_resized.shape)"
   ]
  },
  {
   "cell_type": "code",
   "execution_count": 38,
   "id": "2400e87e",
   "metadata": {},
   "outputs": [],
   "source": [
    "added_image = cv2.add(image1, image2_resized)"
   ]
  },
  {
   "cell_type": "code",
   "execution_count": 39,
   "id": "ef9cc8f3",
   "metadata": {},
   "outputs": [],
   "source": [
    "cv2.imshow('Added Image', added_image)\n",
    "cv2.waitKey(0)\n",
    "cv2.destroyAllWindows()"
   ]
  },
  {
   "cell_type": "markdown",
   "id": "67244bcb",
   "metadata": {},
   "source": [
    "Subtracting Two Images"
   ]
  },
  {
   "cell_type": "code",
   "execution_count": 40,
   "id": "b0dd2c7b",
   "metadata": {},
   "outputs": [],
   "source": [
    "subtracted_image = cv2.subtract(image1, image2_resized)"
   ]
  },
  {
   "cell_type": "code",
   "execution_count": 41,
   "id": "13eb7d62",
   "metadata": {},
   "outputs": [],
   "source": [
    "cv2.imshow('Subtracted Image', subtracted_image)\n",
    "cv2.waitKey(0)\n",
    "cv2.destroyAllWindows()"
   ]
  },
  {
   "cell_type": "markdown",
   "id": "24d6c957",
   "metadata": {},
   "source": [
    "Dividing Images with different Values"
   ]
  },
  {
   "cell_type": "code",
   "execution_count": 42,
   "id": "b8fa37b2",
   "metadata": {},
   "outputs": [],
   "source": [
    "divide1_image = cv2.divide(image2, 0.5)"
   ]
  },
  {
   "cell_type": "code",
   "execution_count": 44,
   "id": "8b42bb09",
   "metadata": {},
   "outputs": [],
   "source": [
    "divide2_image = cv2.divide(image2, 5)"
   ]
  },
  {
   "cell_type": "code",
   "execution_count": 45,
   "id": "7ad020ac",
   "metadata": {},
   "outputs": [],
   "source": [
    "divide3_image = cv2.divide(image2, 0.5)"
   ]
  },
  {
   "cell_type": "code",
   "execution_count": 46,
   "id": "41b2d7a4",
   "metadata": {},
   "outputs": [],
   "source": [
    "divide4_image = cv2.divide(image2, 25)"
   ]
  },
  {
   "cell_type": "code",
   "execution_count": 47,
   "id": "63aa2b33",
   "metadata": {},
   "outputs": [],
   "source": [
    "divide5_image = cv2.divide(image2, 50)"
   ]
  },
  {
   "cell_type": "code",
   "execution_count": 49,
   "id": "8ba8dcce",
   "metadata": {},
   "outputs": [],
   "source": [
    "cv2.imshow('Divided by 0.5', divide1_image)\n",
    "cv2.waitKey(0)\n",
    "cv2.destroyAllWindows()"
   ]
  },
  {
   "cell_type": "code",
   "execution_count": 50,
   "id": "6e9e15ac",
   "metadata": {},
   "outputs": [],
   "source": [
    "cv2.imshow('Divided by 1', divide2_image)\n",
    "cv2.waitKey(0)\n",
    "cv2.destroyAllWindows()"
   ]
  },
  {
   "cell_type": "code",
   "execution_count": 51,
   "id": "e9cdf58c",
   "metadata": {},
   "outputs": [],
   "source": [
    "cv2.imshow('Divided by 10', divide3_image)\n",
    "cv2.waitKey(0)\n",
    "cv2.destroyAllWindows()"
   ]
  },
  {
   "cell_type": "code",
   "execution_count": 52,
   "id": "85316448",
   "metadata": {},
   "outputs": [],
   "source": [
    "cv2.imshow('Divided by 25', divide4_image)\n",
    "cv2.waitKey(0)\n",
    "cv2.destroyAllWindows()"
   ]
  },
  {
   "cell_type": "code",
   "execution_count": 53,
   "id": "f614ff4a",
   "metadata": {},
   "outputs": [],
   "source": [
    "cv2.imshow('Divided by 50', divide5_image)\n",
    "cv2.waitKey(0)\n",
    "cv2.destroyAllWindows()"
   ]
  },
  {
   "cell_type": "markdown",
   "id": "cd299a93",
   "metadata": {},
   "source": [
    "Dividing Images With One Another"
   ]
  },
  {
   "cell_type": "code",
   "execution_count": 56,
   "id": "dff111c9",
   "metadata": {},
   "outputs": [],
   "source": [
    "divided_images = cv2.divide(image1, image2_resized)\n",
    "cv2.imshow('Divided Images', divided_images)\n",
    "cv2.waitKey(0)\n",
    "cv2.destroyAllWindows()"
   ]
  },
  {
   "cell_type": "markdown",
   "id": "1e85504a",
   "metadata": {},
   "source": [
    "Multiplying Images with different Values"
   ]
  },
  {
   "cell_type": "code",
   "execution_count": 59,
   "id": "66ddbe6f",
   "metadata": {},
   "outputs": [],
   "source": [
    "mult1_image = cv2.multiply(image2, 0.5)"
   ]
  },
  {
   "cell_type": "code",
   "execution_count": 60,
   "id": "de1857ed",
   "metadata": {},
   "outputs": [],
   "source": [
    "mult2_image = cv2.multiply(image2, 0.75)"
   ]
  },
  {
   "cell_type": "code",
   "execution_count": 61,
   "id": "1a4fa0c5",
   "metadata": {},
   "outputs": [],
   "source": [
    "mult3_image = cv2.multiply(image2, 1)"
   ]
  },
  {
   "cell_type": "code",
   "execution_count": 62,
   "id": "06186408",
   "metadata": {},
   "outputs": [],
   "source": [
    "mult4_image = cv2.multiply(image2, 10)"
   ]
  },
  {
   "cell_type": "code",
   "execution_count": 63,
   "id": "dc7aed09",
   "metadata": {},
   "outputs": [],
   "source": [
    "mult5_image = cv2.multiply(image2, 20)"
   ]
  },
  {
   "cell_type": "code",
   "execution_count": 64,
   "id": "7222ea13",
   "metadata": {},
   "outputs": [],
   "source": [
    "cv2.imshow('Multiplied by 0.5', mult1_image)\n",
    "cv2.waitKey(0)\n",
    "cv2.destroyAllWindows()"
   ]
  },
  {
   "cell_type": "code",
   "execution_count": 65,
   "id": "cbbc8920",
   "metadata": {},
   "outputs": [],
   "source": [
    "cv2.imshow('Multiplied by 0.75', mult2_image)\n",
    "cv2.waitKey(0)\n",
    "cv2.destroyAllWindows()"
   ]
  },
  {
   "cell_type": "code",
   "execution_count": 66,
   "id": "cfece656",
   "metadata": {},
   "outputs": [],
   "source": [
    "cv2.imshow('Multiplied by 1', mult3_image)\n",
    "cv2.waitKey(0)\n",
    "cv2.destroyAllWindows()"
   ]
  },
  {
   "cell_type": "code",
   "execution_count": 67,
   "id": "07f1a571",
   "metadata": {},
   "outputs": [],
   "source": [
    "cv2.imshow('Multiplied by 10', mult4_image)\n",
    "cv2.waitKey(0)\n",
    "cv2.destroyAllWindows()"
   ]
  },
  {
   "cell_type": "code",
   "execution_count": 68,
   "id": "3a318be6",
   "metadata": {},
   "outputs": [],
   "source": [
    "cv2.imshow('Multiplied by 20', mult5_image)\n",
    "cv2.waitKey(0)\n",
    "cv2.destroyAllWindows()"
   ]
  },
  {
   "cell_type": "markdown",
   "id": "4b297d91",
   "metadata": {},
   "source": [
    "Multiplying Images with one another"
   ]
  },
  {
   "cell_type": "code",
   "execution_count": 69,
   "id": "ba430450",
   "metadata": {},
   "outputs": [],
   "source": [
    "multiplied_images = cv2.multiply(image1, image2_resized)\n",
    "cv2.imshow('Multiplied Images', multiplied_images)\n",
    "cv2.waitKey(0)\n",
    "cv2.destroyAllWindows()"
   ]
  },
  {
   "cell_type": "code",
   "execution_count": null,
   "id": "08876d03",
   "metadata": {},
   "outputs": [],
   "source": []
  }
 ],
 "metadata": {
  "kernelspec": {
   "display_name": "Python 3 (ipykernel)",
   "language": "python",
   "name": "python3"
  },
  "language_info": {
   "codemirror_mode": {
    "name": "ipython",
    "version": 3
   },
   "file_extension": ".py",
   "mimetype": "text/x-python",
   "name": "python",
   "nbconvert_exporter": "python",
   "pygments_lexer": "ipython3",
   "version": "3.11.5"
  }
 },
 "nbformat": 4,
 "nbformat_minor": 5
}
